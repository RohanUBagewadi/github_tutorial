{
 "cells": [
  {
   "cell_type": "markdown",
   "metadata": {},
   "source": [
    "### Tuble: ordered, immutable, allows duplicate elements"
   ]
  },
  {
   "cell_type": "code",
   "execution_count": 2,
   "metadata": {},
   "outputs": [
    {
     "data": {
      "text/plain": [
       "('max', 28, 'Boston')"
      ]
     },
     "execution_count": 2,
     "metadata": {},
     "output_type": "execute_result"
    }
   ],
   "source": [
    "mytuple = (\"max\", 28, \"Boston\")\n",
    "mytuple"
   ]
  },
  {
   "cell_type": "code",
   "execution_count": 5,
   "metadata": {},
   "outputs": [
    {
     "name": "stdout",
     "output_type": "stream",
     "text": [
      "<class 'str'>\n",
      "<class 'int'>\n",
      "<class 'tuple'>\n",
      "<class 'tuple'>\n"
     ]
    }
   ],
   "source": [
    "mytuple = (\"max\")\n",
    "mytuple\n",
    "print(type(mytuple))\n",
    "# is recognized as a str if only one elemnet is specifiedä\n",
    "\n",
    "mytuple = (1)\n",
    "mytuple\n",
    "print(type(mytuple))\n",
    "# is recognized as a int if only one elemnet is specified\n",
    "\n",
    "# so use extra comma \n",
    "mytuple = (\"max\", )\n",
    "mytuple\n",
    "print(type(mytuple))\n",
    "# is recognized as a str if only one elemnet is specifiedä\n",
    "\n",
    "mytuple = (1, )\n",
    "mytuple\n",
    "print(type(mytuple))\n",
    "# is recognized as a int if only one elemnet is specified"
   ]
  },
  {
   "cell_type": "code",
   "execution_count": 27,
   "metadata": {},
   "outputs": [
    {
     "name": "stdout",
     "output_type": "stream",
     "text": [
      "('max', 28, 'Boston')\n"
     ]
    },
    {
     "data": {
      "text/plain": [
       "['max', 28, 'Boston']"
      ]
     },
     "execution_count": 27,
     "metadata": {},
     "output_type": "execute_result"
    }
   ],
   "source": [
    "# create tuple from list\n",
    "mytuple = tuple([\"max\", 28, \"Boston\"])\n",
    "print(mytuple)\n",
    "\n",
    "# viceversa\n",
    "mylist = list(mytuple)\n",
    "mylist"
   ]
  },
  {
   "cell_type": "code",
   "execution_count": 29,
   "metadata": {},
   "outputs": [
    {
     "name": "stdout",
     "output_type": "stream",
     "text": [
      "a\n",
      "p\n",
      "('a', 'b', 'c', 'b', 'p', 'd')\n",
      "('a', 'b', 'c', 'b', 'p')\n",
      "('a', 'b', 'c', 'b', 'p', 'd')\n",
      "('d', 'p', 'b', 'c', 'b', 'a')\n",
      "('d', 'b', 'b')\n"
     ]
    }
   ],
   "source": [
    "# acess elements\n",
    "mytuple = ('a', 'b', 'c', 'b', 'p', 'd')\n",
    "item = mytuple[0]\n",
    "print(item)\n",
    "\n",
    "item = mytuple[-2]\n",
    "print(item)\n",
    "\n",
    "item = mytuple[:]\n",
    "print(item)\n",
    "\n",
    "item = mytuple[0:-1]\n",
    "print(item)\n",
    "\n",
    "item = mytuple[::] # step of 1 by default\n",
    "print(item)\n",
    "\n",
    "item = mytuple[::-1] # step of -1\n",
    "print(item)\n",
    "\n",
    "item = mytuple[::-2] # step of -2\n",
    "print(item)"
   ]
  },
  {
   "cell_type": "code",
   "execution_count": 13,
   "metadata": {},
   "outputs": [
    {
     "ename": "TypeError",
     "evalue": "'tuple' object does not support item assignment",
     "output_type": "error",
     "traceback": [
      "\u001b[1;31m---------------------------------------------------------------------------\u001b[0m",
      "\u001b[1;31mTypeError\u001b[0m                                 Traceback (most recent call last)",
      "\u001b[1;32m<ipython-input-13-1a69a817737a>\u001b[0m in \u001b[0;36m<module>\u001b[1;34m\u001b[0m\n\u001b[0;32m      1\u001b[0m \u001b[1;31m# doesn't support item assignment\u001b[0m\u001b[1;33m\u001b[0m\u001b[1;33m\u001b[0m\u001b[1;33m\u001b[0m\u001b[0m\n\u001b[1;32m----> 2\u001b[1;33m \u001b[0mmytuple\u001b[0m\u001b[1;33m[\u001b[0m\u001b[1;36m0\u001b[0m\u001b[1;33m]\u001b[0m \u001b[1;33m=\u001b[0m \u001b[1;34m\"tim\"\u001b[0m\u001b[1;33m\u001b[0m\u001b[1;33m\u001b[0m\u001b[0m\n\u001b[0m\u001b[0;32m      3\u001b[0m \u001b[1;31m# because it is immutable\u001b[0m\u001b[1;33m\u001b[0m\u001b[1;33m\u001b[0m\u001b[1;33m\u001b[0m\u001b[0m\n",
      "\u001b[1;31mTypeError\u001b[0m: 'tuple' object does not support item assignment"
     ]
    }
   ],
   "source": [
    "# doesn't support item assignment\n",
    "mytuple[0] = \"tim\"\n",
    "# because it is immutable"
   ]
  },
  {
   "cell_type": "code",
   "execution_count": 15,
   "metadata": {},
   "outputs": [
    {
     "name": "stdout",
     "output_type": "stream",
     "text": [
      "Item: max\n",
      "Item: 28\n",
      "Item: Boston\n"
     ]
    }
   ],
   "source": [
    "for i in mytuple:\n",
    "    print(\"Item:\", i)"
   ]
  },
  {
   "cell_type": "code",
   "execution_count": 17,
   "metadata": {},
   "outputs": [
    {
     "name": "stdout",
     "output_type": "stream",
     "text": [
      "Yes\n",
      "No\n"
     ]
    }
   ],
   "source": [
    "if \"max\" in mytuple:\n",
    "    print('Yes')\n",
    "else:\n",
    "    print('No')\n",
    "    \n",
    "if \"Tim\" in mytuple:\n",
    "    print('Yes')\n",
    "else:\n",
    "    print('No')"
   ]
  },
  {
   "cell_type": "code",
   "execution_count": 25,
   "metadata": {},
   "outputs": [
    {
     "name": "stdout",
     "output_type": "stream",
     "text": [
      "Counting element b's in tuple: 2\n",
      "1\n",
      "4\n"
     ]
    }
   ],
   "source": [
    "mytuple = ('a', 'b', 'c', 'b', 'p', 'd')\n",
    "len(mytuple)\n",
    "\n",
    "print(\"Counting element b's in tuple:\", mytuple.count('b'))\n",
    "\n",
    "# to find index of an element\n",
    "print(mytuple.index('b')) # gives the first elments index\n",
    "print(mytuple.index('p')) # gives the first elments index"
   ]
  },
  {
   "cell_type": "code",
   "execution_count": 30,
   "metadata": {},
   "outputs": [
    {
     "name": "stdout",
     "output_type": "stream",
     "text": [
      "max 28 Boston\n"
     ]
    }
   ],
   "source": [
    "# unpacking\n",
    "mytuple = \"max\", 28, \"Boston\"\n",
    "name, age, city = mytuple\n",
    "print(name, age, city)"
   ]
  },
  {
   "cell_type": "code",
   "execution_count": 33,
   "metadata": {},
   "outputs": [
    {
     "name": "stdout",
     "output_type": "stream",
     "text": [
      "a ['b', 'c', 'b', 'p'] d\n"
     ]
    }
   ],
   "source": [
    "mytuple = ('a', 'b', 'c', 'b', 'p', 'd')\n",
    "# if '*' is specified the remaining elements are converted to list\n",
    "# without throughing error\n",
    "i1, *i2, i3 = mytuple\n",
    "print(i1, i2, i3)"
   ]
  },
  {
   "cell_type": "code",
   "execution_count": 36,
   "metadata": {},
   "outputs": [
    {
     "name": "stdout",
     "output_type": "stream",
     "text": [
      "96 bytes\n",
      "96 bytes\n"
     ]
    }
   ],
   "source": [
    "# tubles are more efficient then lists\n",
    "import sys\n",
    "mylist = [0, 1, 2, 'True', True]\n",
    "mytuble = (0, 1, 2, 'True', True)\n",
    "print(sys.getsizeof(mylist), \"bytes\")\n",
    "print(sys.getsizeof(mytuple), \"bytes\")"
   ]
  },
  {
   "cell_type": "code",
   "execution_count": 38,
   "metadata": {},
   "outputs": [
    {
     "name": "stdout",
     "output_type": "stream",
     "text": [
      "0.12031170000000202\n",
      "0.024119700000028388\n"
     ]
    }
   ],
   "source": [
    "import timeit\n",
    "# will create the specified item for defined number of times\n",
    "print(timeit.timeit(stmt=\"[0, 1, 2, 3, 4, 5, 6]\", number=1000000))\n",
    "print(timeit.timeit(stmt=\"(0, 1, 2, 3, 4, 5, 6)\", number=1000000))"
   ]
  },
  {
   "cell_type": "code",
   "execution_count": null,
   "metadata": {},
   "outputs": [],
   "source": []
  }
 ],
 "metadata": {
  "kernelspec": {
   "display_name": "Python 3",
   "language": "python",
   "name": "python3"
  },
  "language_info": {
   "codemirror_mode": {
    "name": "ipython",
    "version": 3
   },
   "file_extension": ".py",
   "mimetype": "text/x-python",
   "name": "python",
   "nbconvert_exporter": "python",
   "pygments_lexer": "ipython3",
   "version": "3.7.6"
  }
 },
 "nbformat": 4,
 "nbformat_minor": 4
}
