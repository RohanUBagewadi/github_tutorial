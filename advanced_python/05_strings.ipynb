{
 "cells": [
  {
   "cell_type": "markdown",
   "metadata": {},
   "source": [
    "### Strings: ordered, immutable, text representation"
   ]
  },
  {
   "cell_type": "code",
   "execution_count": 1,
   "metadata": {},
   "outputs": [
    {
     "name": "stdout",
     "output_type": "stream",
     "text": [
      "Hello World\n"
     ]
    }
   ],
   "source": [
    "mystr = \"Hello World\"\n",
    "print(mystr)"
   ]
  },
  {
   "cell_type": "code",
   "execution_count": 2,
   "metadata": {},
   "outputs": [
    {
     "name": "stdout",
     "output_type": "stream",
     "text": [
      "I'am a World\n"
     ]
    }
   ],
   "source": [
    "mystr = \"I'am a World\"\n",
    "print(mystr)"
   ]
  },
  {
   "cell_type": "code",
   "execution_count": 3,
   "metadata": {},
   "outputs": [
    {
     "name": "stdout",
     "output_type": "stream",
     "text": [
      "I'am a \n",
      "World\n"
     ]
    }
   ],
   "source": [
    "mystr = \"\"\"I'am a \n",
    "World\"\"\"\n",
    "print(mystr)"
   ]
  },
  {
   "cell_type": "code",
   "execution_count": 10,
   "metadata": {},
   "outputs": [
    {
     "name": "stdout",
     "output_type": "stream",
     "text": [
      "H l r\n"
     ]
    }
   ],
   "source": [
    "mystr = \"Hello World\"\n",
    "print(mystr[0], mystr[2], mystr[-3])"
   ]
  },
  {
   "cell_type": "code",
   "execution_count": 11,
   "metadata": {},
   "outputs": [
    {
     "ename": "TypeError",
     "evalue": "'str' object does not support item assignment",
     "output_type": "error",
     "traceback": [
      "\u001b[1;31m---------------------------------------------------------------------------\u001b[0m",
      "\u001b[1;31mTypeError\u001b[0m                                 Traceback (most recent call last)",
      "\u001b[1;32m<ipython-input-11-728144b03277>\u001b[0m in \u001b[0;36m<module>\u001b[1;34m\u001b[0m\n\u001b[0;32m      1\u001b[0m \u001b[0mmystr\u001b[0m \u001b[1;33m=\u001b[0m \u001b[1;34m\"Hello World\"\u001b[0m\u001b[1;33m\u001b[0m\u001b[1;33m\u001b[0m\u001b[0m\n\u001b[1;32m----> 2\u001b[1;33m \u001b[0mmystr\u001b[0m\u001b[1;33m[\u001b[0m\u001b[1;36m1\u001b[0m\u001b[1;33m]\u001b[0m \u001b[1;33m=\u001b[0m \u001b[1;34m\"a\"\u001b[0m\u001b[1;33m\u001b[0m\u001b[1;33m\u001b[0m\u001b[0m\n\u001b[0m",
      "\u001b[1;31mTypeError\u001b[0m: 'str' object does not support item assignment"
     ]
    }
   ],
   "source": [
    "mystr = \"Hello World\"\n",
    "mystr[1] = \"a\" # str is immutable"
   ]
  },
  {
   "cell_type": "code",
   "execution_count": 15,
   "metadata": {},
   "outputs": [
    {
     "name": "stdout",
     "output_type": "stream",
     "text": [
      "Hello World\n",
      "llo World\n",
      "Hello Wo\n",
      "dlroW olleH\n"
     ]
    }
   ],
   "source": [
    "mystr = \"Hello World\"\n",
    "print(mystr[::])\n",
    "print(mystr[2:])\n",
    "print(mystr[:-3])\n",
    "print(mystr[::-1])"
   ]
  },
  {
   "cell_type": "code",
   "execution_count": 17,
   "metadata": {},
   "outputs": [
    {
     "name": "stdout",
     "output_type": "stream",
     "text": [
      "Hello World Tom\n"
     ]
    }
   ],
   "source": [
    "# concatinate\n",
    "greeting = \"Hello\"\n",
    "name = \"Tom\"\n",
    "sentence = greeting + \" \" + name\n",
    "print(sentence)"
   ]
  },
  {
   "cell_type": "code",
   "execution_count": 19,
   "metadata": {},
   "outputs": [
    {
     "name": "stdout",
     "output_type": "stream",
     "text": [
      "str: H\n",
      "str: e\n",
      "str: l\n",
      "str: l\n",
      "str: o\n",
      "str:  \n",
      "str: W\n",
      "str: o\n",
      "str: r\n",
      "str: l\n",
      "str: d\n"
     ]
    }
   ],
   "source": [
    "# for loop\n",
    "for i in mystr:\n",
    "    print('str:', i)"
   ]
  },
  {
   "cell_type": "code",
   "execution_count": 20,
   "metadata": {},
   "outputs": [
    {
     "name": "stdout",
     "output_type": "stream",
     "text": [
      "yes\n",
      "No\n"
     ]
    }
   ],
   "source": [
    "if 'e' in greeting:\n",
    "    print('yes')\n",
    "else:\n",
    "    print('No')\n",
    "    \n",
    "if 'f' in greeting:\n",
    "    print('yes')\n",
    "else:\n",
    "    print('No')"
   ]
  },
  {
   "cell_type": "code",
   "execution_count": 21,
   "metadata": {},
   "outputs": [
    {
     "name": "stdout",
     "output_type": "stream",
     "text": [
      "    Hello World    \n",
      "Hello World\n"
     ]
    }
   ],
   "source": [
    "# to remove white spaces\n",
    "mystr = '    Hello World    '\n",
    "print(mystr)\n",
    "newstr = mystr.strip() # doesn't change the original one\n",
    "print(newstr)"
   ]
  },
  {
   "cell_type": "code",
   "execution_count": 23,
   "metadata": {},
   "outputs": [
    {
     "name": "stdout",
     "output_type": "stream",
     "text": [
      "HELLO WORLD\n",
      "hello world\n"
     ]
    }
   ],
   "source": [
    "# convet to upper case\n",
    "mystr = \"Hello World\"\n",
    "newstr = mystr.upper()\n",
    "print(newstr)\n",
    "newstr = mystr.lower()\n",
    "print(newstr)"
   ]
  },
  {
   "cell_type": "code",
   "execution_count": 27,
   "metadata": {},
   "outputs": [
    {
     "data": {
      "text/plain": [
       "False"
      ]
     },
     "execution_count": 27,
     "metadata": {},
     "output_type": "execute_result"
    }
   ],
   "source": [
    "# starts with\n",
    "mystr = \"Hello World\"\n",
    "newstr = mystr.startswith('h')\n",
    "newstr"
   ]
  },
  {
   "cell_type": "code",
   "execution_count": 28,
   "metadata": {},
   "outputs": [
    {
     "data": {
      "text/plain": [
       "True"
      ]
     },
     "execution_count": 28,
     "metadata": {},
     "output_type": "execute_result"
    }
   ],
   "source": [
    "# starts with\n",
    "mystr = \"Hello World\"\n",
    "newstr = mystr.startswith('Hello')\n",
    "newstr"
   ]
  },
  {
   "cell_type": "code",
   "execution_count": 31,
   "metadata": {},
   "outputs": [
    {
     "data": {
      "text/plain": [
       "False"
      ]
     },
     "execution_count": 31,
     "metadata": {},
     "output_type": "execute_result"
    }
   ],
   "source": [
    "# ends with\n",
    "mystr = \"Hello World\"\n",
    "newstr = mystr.endswith('l')\n",
    "newstr"
   ]
  },
  {
   "cell_type": "code",
   "execution_count": 33,
   "metadata": {},
   "outputs": [
    {
     "data": {
      "text/plain": [
       "True"
      ]
     },
     "execution_count": 33,
     "metadata": {},
     "output_type": "execute_result"
    }
   ],
   "source": [
    "# ends with\n",
    "mystr = \"Hello World\"\n",
    "newstr = mystr.endswith('rld')\n",
    "newstr"
   ]
  },
  {
   "cell_type": "code",
   "execution_count": 34,
   "metadata": {},
   "outputs": [
    {
     "name": "stdout",
     "output_type": "stream",
     "text": [
      "4\n"
     ]
    }
   ],
   "source": [
    "# find character in str\n",
    "mystr = \"Hello World\"\n",
    "newstr = mystr.find('o')  # returns the position of st occuring element\n",
    "print(newstr)"
   ]
  },
  {
   "cell_type": "code",
   "execution_count": 35,
   "metadata": {},
   "outputs": [
    {
     "name": "stdout",
     "output_type": "stream",
     "text": [
      "9\n"
     ]
    }
   ],
   "source": [
    "# find substring in str\n",
    "mystr = \"Hello World\"\n",
    "newstr = mystr.find('ld')  # returns the position of st occuring element\n",
    "print(newstr)"
   ]
  },
  {
   "cell_type": "code",
   "execution_count": 36,
   "metadata": {},
   "outputs": [
    {
     "name": "stdout",
     "output_type": "stream",
     "text": [
      "-1\n"
     ]
    }
   ],
   "source": [
    "# find substring in str\n",
    "mystr = \"Hello World\"\n",
    "newstr = mystr.find('pp')  # returns the position of st occuring element\n",
    "print(newstr) \n",
    "# returns -1 if not present"
   ]
  },
  {
   "cell_type": "code",
   "execution_count": 37,
   "metadata": {},
   "outputs": [
    {
     "name": "stdout",
     "output_type": "stream",
     "text": [
      "3\n"
     ]
    }
   ],
   "source": [
    "# find count of elements in str\n",
    "mystr = \"Hello World\"\n",
    "newstr = mystr.count('l')  # returns the position of st occuring element\n",
    "print(newstr) \n",
    "# returns -1 if not present"
   ]
  },
  {
   "cell_type": "code",
   "execution_count": 43,
   "metadata": {},
   "outputs": [
    {
     "name": "stdout",
     "output_type": "stream",
     "text": [
      "HeLLo WorLd Hello World\n"
     ]
    }
   ],
   "source": [
    "# replace char\n",
    "mystr = \"Hello World\"\n",
    "newstr = mystr.replace('l', 'L')  # returns the position of st occuring element\n",
    "print(newstr, mystr) \n",
    "# the original str is not modified"
   ]
  },
  {
   "cell_type": "code",
   "execution_count": 42,
   "metadata": {},
   "outputs": [
    {
     "name": "stdout",
     "output_type": "stream",
     "text": [
      "Hello universe Hello World\n"
     ]
    }
   ],
   "source": [
    "# replace char\n",
    "mystr = \"Hello World\"\n",
    "newstr = mystr.replace('World', 'universe')  # returns the position of st occuring element\n",
    "print(newstr, mystr) \n",
    "# the original str is not modified"
   ]
  },
  {
   "cell_type": "code",
   "execution_count": 44,
   "metadata": {},
   "outputs": [
    {
     "data": {
      "text/plain": [
       "['how', 'are', 'you', 'doing']"
      ]
     },
     "execution_count": 44,
     "metadata": {},
     "output_type": "execute_result"
    }
   ],
   "source": [
    "# convert list to str\n",
    "mystr = 'how are you doing'\n",
    "mylist = mystr.split()  # default is space '_'\n",
    "mylist"
   ]
  },
  {
   "cell_type": "code",
   "execution_count": 45,
   "metadata": {},
   "outputs": [
    {
     "data": {
      "text/plain": [
       "['how,are,you,doing']"
      ]
     },
     "execution_count": 45,
     "metadata": {},
     "output_type": "execute_result"
    }
   ],
   "source": [
    "# convert list to str\n",
    "mystr = 'how,are,you,doing'\n",
    "mylist = mystr.split()  # default is space '_'\n",
    "mylist"
   ]
  },
  {
   "cell_type": "code",
   "execution_count": 46,
   "metadata": {
    "scrolled": true
   },
   "outputs": [
    {
     "data": {
      "text/plain": [
       "['how', 'are', 'you', 'doing']"
      ]
     },
     "execution_count": 46,
     "metadata": {},
     "output_type": "execute_result"
    }
   ],
   "source": [
    "# convert list to str\n",
    "mystr = 'how,are,you,doing'\n",
    "mylist = mystr.split(',')  # default is space '_'\n",
    "mylist"
   ]
  },
  {
   "cell_type": "code",
   "execution_count": 52,
   "metadata": {},
   "outputs": [
    {
     "name": "stdout",
     "output_type": "stream",
     "text": [
      "howareyoudoing\n",
      "how are you doing\n"
     ]
    }
   ],
   "source": [
    "# convert list to str\n",
    "mystr = 'how,are,you,doing'\n",
    "mylist = mystr.split(',')  # default is space '_'\n",
    "newstr = ''.join(mylist)\n",
    "print(newstr) # joins with out spaces\n",
    "\n",
    "# or to put space '_' in between\n",
    "newstr = ' '.join(mylist)\n",
    "print(newstr) # joins with spaces"
   ]
  },
  {
   "cell_type": "code",
   "execution_count": 58,
   "metadata": {},
   "outputs": [
    {
     "name": "stdout",
     "output_type": "stream",
     "text": [
      "time taken: 0.2119392999993579\n",
      "time taken: 0.008504999999786378\n"
     ]
    }
   ],
   "source": [
    "from timeit import default_timer as timer \n",
    "\n",
    "# convert list to str\n",
    "mylist = ['a']*1000000\n",
    "\n",
    "st = timer()\n",
    "for i in mylist:\n",
    "    mystr += i\n",
    "sp = timer()\n",
    "print('time taken:', sp-st)\n",
    "\n",
    "st = timer()\n",
    "newstr = ''.join(mylist) # use it instead of for loop\n",
    "sp = timer()\n",
    "print('time taken:', sp-st)"
   ]
  },
  {
   "cell_type": "code",
   "execution_count": 59,
   "metadata": {},
   "outputs": [
    {
     "data": {
      "text/plain": [
       "'the variable is Tom'"
      ]
     },
     "execution_count": 59,
     "metadata": {},
     "output_type": "execute_result"
    }
   ],
   "source": [
    "# formatting string\n",
    "# % ---(old style), .format(), f-string\n",
    "\n",
    "var = 'Tom'\n",
    "mystr = \"the variable is %s\" %var\n",
    "mystr"
   ]
  },
  {
   "cell_type": "code",
   "execution_count": 60,
   "metadata": {},
   "outputs": [
    {
     "data": {
      "text/plain": [
       "'the variable is 8'"
      ]
     },
     "execution_count": 60,
     "metadata": {},
     "output_type": "execute_result"
    }
   ],
   "source": [
    "var = 8\n",
    "mystr = \"the variable is %d\" %var\n",
    "mystr"
   ]
  },
  {
   "cell_type": "code",
   "execution_count": 62,
   "metadata": {},
   "outputs": [
    {
     "name": "stdout",
     "output_type": "stream",
     "text": [
      "the variable is 0.008505\n",
      "the variable is 0.009\n"
     ]
    }
   ],
   "source": [
    "var = 0.008504999999786378\n",
    "mystr = \"the variable is %f\" %var\n",
    "print(mystr) # default is 6 digits\n",
    "\n",
    "mystr = \"the variable is %.3f\" %var \n",
    "print(mystr) # 3 digits"
   ]
  },
  {
   "cell_type": "code",
   "execution_count": 63,
   "metadata": {},
   "outputs": [
    {
     "data": {
      "text/plain": [
       "'the variable is Tom'"
      ]
     },
     "execution_count": 63,
     "metadata": {},
     "output_type": "execute_result"
    }
   ],
   "source": [
    "var = 'Tom'\n",
    "mystr = \"the variable is {}\".format(var)\n",
    "mystr"
   ]
  },
  {
   "cell_type": "code",
   "execution_count": 65,
   "metadata": {},
   "outputs": [
    {
     "data": {
      "text/plain": [
       "'the variable is 0.01 and 0.9'"
      ]
     },
     "execution_count": 65,
     "metadata": {},
     "output_type": "execute_result"
    }
   ],
   "source": [
    "var = 0.008504999999786378\n",
    "mystr = \"the variable is {:.2f} and {:.1}\".format(var, var*100)\n",
    "mystr"
   ]
  },
  {
   "cell_type": "code",
   "execution_count": 67,
   "metadata": {},
   "outputs": [
    {
     "data": {
      "text/plain": [
       "'the variable is 0.008504999999786378 and 0.8504999999786378'"
      ]
     },
     "execution_count": 67,
     "metadata": {},
     "output_type": "execute_result"
    }
   ],
   "source": [
    "# using f-string\n",
    "var = 0.008504999999786378\n",
    "mystr = f\"the variable is {var} and {var*100}\"\n",
    "mystr"
   ]
  },
  {
   "cell_type": "code",
   "execution_count": null,
   "metadata": {},
   "outputs": [],
   "source": []
  }
 ],
 "metadata": {
  "kernelspec": {
   "display_name": "Python 3",
   "language": "python",
   "name": "python3"
  },
  "language_info": {
   "codemirror_mode": {
    "name": "ipython",
    "version": 3
   },
   "file_extension": ".py",
   "mimetype": "text/x-python",
   "name": "python",
   "nbconvert_exporter": "python",
   "pygments_lexer": "ipython3",
   "version": "3.7.6"
  }
 },
 "nbformat": 4,
 "nbformat_minor": 4
}
