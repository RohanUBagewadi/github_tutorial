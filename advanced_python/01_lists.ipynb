{
 "cells": [
  {
   "cell_type": "code",
   "execution_count": 4,
   "metadata": {},
   "outputs": [
    {
     "name": "stdout",
     "output_type": "stream",
     "text": [
      "['banana', 'cherry', 'apple', 'lemon']\n",
      "['banana', 'cherry', 'apple', 'lemon']\n",
      "['banana', 'cherry', 'apple', 'lemon']\n",
      "['banana', 'cherry', 'apple']\n",
      "['banana', 'cherry', 'apple', 'lemon']\n",
      "['banana', 'cherry', 'apple']\n"
     ]
    }
   ],
   "source": [
    "list_org = [\"banana\", \"cherry\", \"apple\"]\n",
    "list_cpy = list_org\n",
    "list_cpy.append(\"lemon\")\n",
    "print(list_cpy)\n",
    "print(list_org)\n",
    "\n",
    "# new elements gets added to the original list also\n",
    "# so use: 1) .copy()\n",
    "list_org = [\"banana\", \"cherry\", \"apple\"]\n",
    "list_cpy = list_org.copy()\n",
    "list_cpy.append(\"lemon\")\n",
    "print(list_cpy)\n",
    "print(list_org)\n",
    "\n",
    "\n",
    "# new elements gets added to the original list also\n",
    "# so use: 2) sclicing\n",
    "list_org = [\"banana\", \"cherry\", \"apple\"]\n",
    "list_cpy = list_org[:]\n",
    "list_cpy.append(\"lemon\")\n",
    "print(list_cpy)\n",
    "print(list_org)"
   ]
  },
  {
   "cell_type": "code",
   "execution_count": 5,
   "metadata": {},
   "outputs": [
    {
     "name": "stdout",
     "output_type": "stream",
     "text": [
      "[1, 2, 3, 4, 5, 6] [3, 4, 5, 6, 7, 8]\n"
     ]
    }
   ],
   "source": [
    "# list comprehension\n",
    "a = [1, 2, 3, 4, 5, 6]\n",
    "b = [i+2 for i in a]\n",
    "print(a, b)"
   ]
  },
  {
   "cell_type": "code",
   "execution_count": 2,
   "metadata": {},
   "outputs": [
    {
     "name": "stdout",
     "output_type": "stream",
     "text": [
      "3.7.6\n"
     ]
    }
   ],
   "source": [
    "from platform import python_version\n",
    "print(python_version())"
   ]
  },
  {
   "cell_type": "code",
   "execution_count": null,
   "metadata": {},
   "outputs": [],
   "source": []
  }
 ],
 "metadata": {
  "kernelspec": {
   "display_name": "Python 3",
   "language": "python",
   "name": "python3"
  },
  "language_info": {
   "codemirror_mode": {
    "name": "ipython",
    "version": 3
   },
   "file_extension": ".py",
   "mimetype": "text/x-python",
   "name": "python",
   "nbconvert_exporter": "python",
   "pygments_lexer": "ipython3",
   "version": "3.7.6"
  }
 },
 "nbformat": 4,
 "nbformat_minor": 4
}
