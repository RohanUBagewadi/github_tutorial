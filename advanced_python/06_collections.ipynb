{
 "cells": [
  {
   "cell_type": "markdown",
   "metadata": {},
   "source": [
    "### Collections: Counter, namedtuple, OrderedDict, defaulatdict, deque\n",
    "\n",
    "#### 1) Counter:\n",
    "Counter is a container that stores the elements as dict key and ther counts as dict values.\n",
    "\n",
    "This module implements specialized container datatypes providing alternatives to Python’s general purpose built-in containers, dict, list, set, and tuple."
   ]
  },
  {
   "cell_type": "code",
   "execution_count": 2,
   "metadata": {},
   "outputs": [],
   "source": [
    "from collections import Counter"
   ]
  },
  {
   "cell_type": "code",
   "execution_count": 3,
   "metadata": {},
   "outputs": [
    {
     "data": {
      "text/plain": [
       "Counter({'a': 5, 'b': 2, 'c': 4})"
      ]
     },
     "execution_count": 3,
     "metadata": {},
     "output_type": "execute_result"
    }
   ],
   "source": [
    "a = 'aaaaabbcccc'\n",
    "my_conter = Counter(a)\n",
    "my_conter"
   ]
  },
  {
   "cell_type": "code",
   "execution_count": 11,
   "metadata": {},
   "outputs": [
    {
     "name": "stdout",
     "output_type": "stream",
     "text": [
      "dict_keys(['a', 'b', 'c'])\n",
      "dict_values([5, 2, 4])\n",
      "dict_items([('a', 5), ('b', 2), ('c', 4)])\n",
      "[('a', 5)]\n",
      "[('a', 5), ('c', 4)]\n",
      "5\n"
     ]
    }
   ],
   "source": [
    "print(my_conter.keys())\n",
    "print(my_conter.values())\n",
    "print(my_conter.items())\n",
    "\n",
    "# to get 1st most commen elements, it returns in the form of tuple\n",
    "print(my_conter.most_common(1))\n",
    "# to get 1st and 2nd most commen elements\n",
    "print(my_conter.most_common(2))\n",
    "\n",
    "\n",
    "# it returns in the form of tuple, so to get the count number\n",
    "print(my_conter.most_common(1)[0][1])"
   ]
  },
  {
   "cell_type": "code",
   "execution_count": 13,
   "metadata": {},
   "outputs": [
    {
     "data": {
      "text/plain": [
       "['a', 'a', 'a', 'a', 'a', 'b', 'b', 'c', 'c', 'c', 'c']"
      ]
     },
     "execution_count": 13,
     "metadata": {},
     "output_type": "execute_result"
    }
   ],
   "source": [
    "# to get the all the elements in the form of list\n",
    "l = list(my_conter.elements())\n",
    "l"
   ]
  },
  {
   "cell_type": "markdown",
   "metadata": {},
   "source": [
    "#### 2) Namedtuples:\n",
    "Used to create an lightweight object type similar to strud"
   ]
  },
  {
   "cell_type": "code",
   "execution_count": 14,
   "metadata": {},
   "outputs": [],
   "source": [
    "from collections import namedtuple"
   ]
  },
  {
   "cell_type": "code",
   "execution_count": 15,
   "metadata": {},
   "outputs": [],
   "source": [
    "Point = namedtuple('Point', 'x,y') \n",
    "# Creates class named 'Point' with properties x and y"
   ]
  },
  {
   "cell_type": "code",
   "execution_count": 16,
   "metadata": {},
   "outputs": [
    {
     "data": {
      "text/plain": [
       "Point(x=1, y=-4)"
      ]
     },
     "execution_count": 16,
     "metadata": {},
     "output_type": "execute_result"
    }
   ],
   "source": [
    "pt = Point(1, -4)\n",
    "pt"
   ]
  },
  {
   "cell_type": "code",
   "execution_count": 17,
   "metadata": {},
   "outputs": [
    {
     "name": "stdout",
     "output_type": "stream",
     "text": [
      "1 -4\n"
     ]
    }
   ],
   "source": [
    "print(pt.x, pt.y)"
   ]
  },
  {
   "cell_type": "markdown",
   "metadata": {},
   "source": [
    "### 3) Ordered Dict:\n",
    "Behave like regular dict but they remember the order in which they are added"
   ]
  },
  {
   "cell_type": "code",
   "execution_count": 18,
   "metadata": {},
   "outputs": [],
   "source": [
    "from collections import OrderedDict"
   ]
  },
  {
   "cell_type": "code",
   "execution_count": 20,
   "metadata": {},
   "outputs": [
    {
     "name": "stdout",
     "output_type": "stream",
     "text": [
      "OrderedDict([('a', 1), ('b', 3), ('c', 8), ('d', 5)])\n"
     ]
    }
   ],
   "source": [
    "ordered_dict = OrderedDict()\n",
    "ordered_dict['a'] = 1\n",
    "ordered_dict['b'] = 3\n",
    "ordered_dict['c'] = 8\n",
    "ordered_dict['d'] = 5\n",
    "print(ordered_dict)"
   ]
  },
  {
   "cell_type": "code",
   "execution_count": 21,
   "metadata": {},
   "outputs": [
    {
     "name": "stdout",
     "output_type": "stream",
     "text": [
      "OrderedDict([('d', 1), ('b', 3), ('c', 8), ('a', 5)])\n"
     ]
    }
   ],
   "source": [
    "ordered_dict = OrderedDict()\n",
    "ordered_dict['d'] = 1\n",
    "ordered_dict['b'] = 3\n",
    "ordered_dict['c'] = 8\n",
    "ordered_dict['a'] = 5\n",
    "print(ordered_dict)"
   ]
  },
  {
   "cell_type": "markdown",
   "metadata": {},
   "source": [
    "### 4) Default Dict:\n",
    "They are also similar to regular dict but they value if the key has not been set yet."
   ]
  },
  {
   "cell_type": "code",
   "execution_count": 22,
   "metadata": {},
   "outputs": [],
   "source": [
    "from collections import defaultdict"
   ]
  },
  {
   "cell_type": "code",
   "execution_count": 30,
   "metadata": {},
   "outputs": [
    {
     "data": {
      "text/plain": [
       "defaultdict(int, {'d': 1, 'b': 5, 'a': 1})"
      ]
     },
     "execution_count": 30,
     "metadata": {},
     "output_type": "execute_result"
    }
   ],
   "source": [
    "d = defaultdict(int)\n",
    "d['d'] = 1\n",
    "d['b'] = 5\n",
    "d['a'] = 1\n",
    "d"
   ]
  },
  {
   "cell_type": "code",
   "execution_count": 31,
   "metadata": {},
   "outputs": [
    {
     "name": "stdout",
     "output_type": "stream",
     "text": [
      "1\n",
      "1\n",
      "0\n"
     ]
    }
   ],
   "source": [
    "print(d['a'])\n",
    "print(d['d'])\n",
    "# if the key not present in the dict returns the default value i.e 0\n",
    "# the value can be int, float, list\n",
    "print(d['e'])"
   ]
  },
  {
   "cell_type": "code",
   "execution_count": 32,
   "metadata": {},
   "outputs": [
    {
     "name": "stdout",
     "output_type": "stream",
     "text": [
      "1\n",
      "0.0\n"
     ]
    }
   ],
   "source": [
    "d = defaultdict(float)\n",
    "d['d'] = 1\n",
    "d['b'] = 5\n",
    "d['a'] = 1\n",
    "print(d['d'])\n",
    "# if the key not present in the dict returns the default value\n",
    "print(d['e'])"
   ]
  },
  {
   "cell_type": "code",
   "execution_count": 33,
   "metadata": {},
   "outputs": [
    {
     "name": "stdout",
     "output_type": "stream",
     "text": [
      "1\n",
      "[]\n"
     ]
    }
   ],
   "source": [
    "d = defaultdict(list)\n",
    "d['d'] = 1\n",
    "d['b'] = 5\n",
    "d['a'] = 1\n",
    "print(d['d'])\n",
    "# if the key not present in the dict returns the default value\n",
    "print(d['e'])"
   ]
  },
  {
   "cell_type": "markdown",
   "metadata": {},
   "source": [
    "### 5) Deque:\n",
    "Add or remove the elements from the both hands.\n",
    "List-like container with fast appends and pops on either end."
   ]
  },
  {
   "cell_type": "code",
   "execution_count": 34,
   "metadata": {},
   "outputs": [],
   "source": [
    "from collections import deque"
   ]
  },
  {
   "cell_type": "code",
   "execution_count": 35,
   "metadata": {},
   "outputs": [
    {
     "data": {
      "text/plain": [
       "deque([1, 2])"
      ]
     },
     "execution_count": 35,
     "metadata": {},
     "output_type": "execute_result"
    }
   ],
   "source": [
    "d = deque()\n",
    "d.append(1)\n",
    "d.append(2)\n",
    "d"
   ]
  },
  {
   "cell_type": "code",
   "execution_count": 43,
   "metadata": {},
   "outputs": [
    {
     "name": "stdout",
     "output_type": "stream",
     "text": [
      "deque([3, 1, 2])\n",
      "deque([3, 1])\n",
      "deque([1])\n",
      "deque([])\n",
      "deque([4, 5, 6])\n",
      "deque([7, 9, 4, 5, 6])\n"
     ]
    }
   ],
   "source": [
    "d = deque()\n",
    "d.append(1)\n",
    "d.append(2)\n",
    "d.appendleft(3) # appends from the left side\n",
    "print(d)\n",
    "d.pop() # removes the last element\n",
    "print(d)\n",
    "d.popleft()\n",
    "print(d)\n",
    "d.clear() # removes all elements\n",
    "print(d)\n",
    "d.extend([4, 5, 6])\n",
    "print(d)\n",
    "d.extendleft([9, 7]) # extend(adds) the elements from left\n",
    "print(d) # check the elments 7 is the left most element"
   ]
  },
  {
   "cell_type": "code",
   "execution_count": 44,
   "metadata": {},
   "outputs": [
    {
     "data": {
      "text/plain": [
       "deque([6, 7, 9, 4, 5])"
      ]
     },
     "execution_count": 44,
     "metadata": {},
     "output_type": "execute_result"
    }
   ],
   "source": [
    "d.rotate() # rotates the elements by step of '1' b default to the right\n",
    "d"
   ]
  },
  {
   "cell_type": "code",
   "execution_count": 45,
   "metadata": {},
   "outputs": [
    {
     "data": {
      "text/plain": [
       "deque([4, 5, 6, 7, 9])"
      ]
     },
     "execution_count": 45,
     "metadata": {},
     "output_type": "execute_result"
    }
   ],
   "source": [
    "d.rotate(2)  # rotates the elements by step of '2'\n",
    "d"
   ]
  },
  {
   "cell_type": "code",
   "execution_count": 46,
   "metadata": {},
   "outputs": [
    {
     "data": {
      "text/plain": [
       "deque([9, 4, 5, 6, 7])"
      ]
     },
     "execution_count": 46,
     "metadata": {},
     "output_type": "execute_result"
    }
   ],
   "source": [
    "d.rotate(1) \n",
    "d"
   ]
  },
  {
   "cell_type": "code",
   "execution_count": 48,
   "metadata": {},
   "outputs": [
    {
     "data": {
      "text/plain": [
       "deque([4, 5, 6, 7, 9])"
      ]
     },
     "execution_count": 48,
     "metadata": {},
     "output_type": "execute_result"
    }
   ],
   "source": [
    "# rotates the elements by step of '1' to the left\n",
    "d.rotate(-1) \n",
    "d"
   ]
  },
  {
   "cell_type": "code",
   "execution_count": 49,
   "metadata": {},
   "outputs": [
    {
     "data": {
      "text/plain": [
       "deque([6, 7, 9, 4, 5])"
      ]
     },
     "execution_count": 49,
     "metadata": {},
     "output_type": "execute_result"
    }
   ],
   "source": [
    "# rotates the elements by step of '2' to the left\n",
    "d.rotate(-2) \n",
    "d"
   ]
  },
  {
   "cell_type": "code",
   "execution_count": null,
   "metadata": {},
   "outputs": [],
   "source": []
  }
 ],
 "metadata": {
  "kernelspec": {
   "display_name": "Python 3",
   "language": "python",
   "name": "python3"
  },
  "language_info": {
   "codemirror_mode": {
    "name": "ipython",
    "version": 3
   },
   "file_extension": ".py",
   "mimetype": "text/x-python",
   "name": "python",
   "nbconvert_exporter": "python",
   "pygments_lexer": "ipython3",
   "version": "3.7.6"
  }
 },
 "nbformat": 4,
 "nbformat_minor": 4
}
