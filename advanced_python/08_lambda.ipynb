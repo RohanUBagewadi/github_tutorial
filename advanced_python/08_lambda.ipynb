{
 "cells": [
  {
   "cell_type": "markdown",
   "metadata": {},
   "source": [
    "## Lambda:\n",
    "A lambda function is a small anonymous function.\n",
    "A lambda function can take any number of arguments, but can only have one expression.\n",
    "Is used when the function is need for only once.\n",
    "__Syntax:__ lambda arguments : expression"
   ]
  },
  {
   "cell_type": "code",
   "execution_count": 5,
   "metadata": {},
   "outputs": [
    {
     "name": "stdout",
     "output_type": "stream",
     "text": [
      "15\n",
      "15\n"
     ]
    }
   ],
   "source": [
    "add10 = lambda x: x +10 # add10 is function\n",
    "print(add10(5))\n",
    "\n",
    "# lambda fun. much shorter and simple\n",
    "# is equivalent to:\n",
    "def add10_fun(x):\n",
    "    return x +10\n",
    "print(add10_fun(5))"
   ]
  },
  {
   "cell_type": "code",
   "execution_count": 7,
   "metadata": {},
   "outputs": [
    {
     "data": {
      "text/plain": [
       "45"
      ]
     },
     "execution_count": 7,
     "metadata": {},
     "output_type": "execute_result"
    }
   ],
   "source": [
    "# with multiple arguments\n",
    "mult = lambda x,y: x*y\n",
    "mult(9, 5)"
   ]
  },
  {
   "cell_type": "code",
   "execution_count": 10,
   "metadata": {},
   "outputs": [
    {
     "name": "stdout",
     "output_type": "stream",
     "text": [
      "[(1, 2), (15, 1), (5, -1), (10, 4)]\n",
      "[(1, 2), (5, -1), (10, 4), (15, 1)]\n",
      "Modified sorting\n",
      "[(1, 2), (15, 1), (5, -1), (10, 4)]\n",
      "[(5, -1), (15, 1), (1, 2), (10, 4)]\n"
     ]
    }
   ],
   "source": [
    "# lambda fun. usage in sorted method \n",
    "points2D = [(1, 2), (15, 1), (5, -1), (10, 4)]\n",
    "points2D_sorted = sorted(points2D)\n",
    "\n",
    "print(points2D)\n",
    "print(points2D_sorted)\n",
    "\n",
    "# sort using the secound value in each tuple\n",
    "points2D_sorted = sorted(points2D, key=lambda x: x[1])\n",
    "print(\"Modified sorting\")\n",
    "print(points2D)\n",
    "print(points2D_sorted)"
   ]
  },
  {
   "cell_type": "code",
   "execution_count": 13,
   "metadata": {},
   "outputs": [
    {
     "name": "stdout",
     "output_type": "stream",
     "text": [
      "[(1, 2), (15, 1), (5, -1), (10, 4)]\n",
      "[(1, 2), (5, -1), (10, 4), (15, 1)]\n",
      "Modified sorting\n",
      "[(1, 2), (15, 1), (5, -1), (10, 4)]\n",
      "[(1, 2), (5, -1), (10, 4), (15, 1)]\n"
     ]
    }
   ],
   "source": [
    "# lambda fun. usage in sorted method \n",
    "points2D = [(1, 2), (15, 1), (5, -1), (10, 4)]\n",
    "points2D_sorted = sorted(points2D)\n",
    "\n",
    "print(points2D)\n",
    "print(points2D_sorted)\n",
    "\n",
    "# sort using the secound value in each tuple\n",
    "points2D_sorted = sorted(points2D, key=lambda x: x[0] + x[1])\n",
    "print(\"Modified sorting\")\n",
    "print(points2D)\n",
    "print(points2D_sorted)"
   ]
  },
  {
   "cell_type": "code",
   "execution_count": 17,
   "metadata": {},
   "outputs": [
    {
     "name": "stdout",
     "output_type": "stream",
     "text": [
      "<map object at 0x000001C5189AD308>\n",
      "[2, 4, 6, 8, 10]\n",
      "[2, 4, 6, 8, 10]\n"
     ]
    }
   ],
   "source": [
    "# to map(func, seq)\n",
    "a = [1, 2, 3, 4, 5]\n",
    "b = map(lambda x: x*2, a)\n",
    "print(b)\n",
    "print(list(b))\n",
    "\n",
    "# is equivalent\n",
    "b = [x*2 for x in a]\n",
    "print(b)"
   ]
  },
  {
   "cell_type": "code",
   "execution_count": 19,
   "metadata": {},
   "outputs": [
    {
     "name": "stdout",
     "output_type": "stream",
     "text": [
      "<filter object at 0x000001C518969748>\n",
      "[2, 4, 6]\n",
      "[2, 4, 6]\n"
     ]
    }
   ],
   "source": [
    "# filter(func, seq)\n",
    "# to map(func, seq)\n",
    "a = [1, 2, 3, 4, 5, 6] \n",
    "b = filter(lambda x: x%2 == 0, a)  # to get even numbers\n",
    "print(b)\n",
    "print(list(b))\n",
    "\n",
    "\n",
    "# is equivalent\n",
    "c = [x for x in a if x%2==0]\n",
    "print(c)"
   ]
  },
  {
   "cell_type": "code",
   "execution_count": 26,
   "metadata": {},
   "outputs": [
    {
     "name": "stdout",
     "output_type": "stream",
     "text": [
      "24\n"
     ]
    }
   ],
   "source": [
    "# reduce(func, seq)\n",
    "from functools import reduce\n",
    "a = [1, 2, 3, 4] \n",
    "prod_a = reduce(lambda x, y: x*y, a)  # to get even numbers\n",
    "print(prod_a)"
   ]
  },
  {
   "cell_type": "code",
   "execution_count": null,
   "metadata": {},
   "outputs": [],
   "source": []
  }
 ],
 "metadata": {
  "kernelspec": {
   "display_name": "Python 3",
   "language": "python",
   "name": "python3"
  },
  "language_info": {
   "codemirror_mode": {
    "name": "ipython",
    "version": 3
   },
   "file_extension": ".py",
   "mimetype": "text/x-python",
   "name": "python",
   "nbconvert_exporter": "python",
   "pygments_lexer": "ipython3",
   "version": "3.7.6"
  }
 },
 "nbformat": 4,
 "nbformat_minor": 4
}
