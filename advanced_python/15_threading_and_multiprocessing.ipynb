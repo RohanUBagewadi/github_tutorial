{
 "cells": [
  {
   "cell_type": "markdown",
   "metadata": {},
   "source": [
    "## Multiprocessing and Threading:\n",
    "We have two common approaches to run code in parallel (achieve multitasking and speed up your program) : via threads or via multiple processes."
   ]
  },
  {
   "cell_type": "markdown",
   "metadata": {},
   "source": [
    "#####  Process\n",
    "A Process is an instance of a program, e.g. a Python interpreter. They are independent from each other and do not share the same memory.\n",
    "\n",
    "Key facts: - A new process is started independently from the first process - Takes advantage of multiple CPUs and cores - Separate memory space - Memory is not shared between processes - One GIL (Global interpreter lock) for each process, i.e. avoids GIL limitation - Great for CPU-bound processing - Child processes are interruptable/killable\n",
    "\n",
    "- Starting a process is slower that starting a thread\n",
    "- Larger memory footprint\n",
    "- IPC (inter-process communication) is more complicated"
   ]
  },
  {
   "cell_type": "markdown",
   "metadata": {},
   "source": [
    "### 1) Multiprocessing:\n",
    "##### When is Multiprocessing useful?\n",
    "\n",
    "It is useful for CPU-bound tasks that have to do a lot of CPU operations for a large amount of data and require a lot of computation time. With multiprocessing you can split the data into equal parts an do parallel computing on different CPUs.\n",
    "\n",
    "Example: Calculate the square numbers for all numbers from 1 to 1000000. Divide the numbers into equal sized parts and use a process for each subset"
   ]
  },
  {
   "cell_type": "markdown",
   "metadata": {},
   "source": [
    "##### GIL - Global interpreter lock\n",
    "\n",
    "This is a mutex (or a lock) that allows only one thread to hold control of the Python interpreter. This means that the GIL allows only one thread to execute at a time even in a multi-threaded architecture.\n",
    "##### Why is it needed?\n",
    "\n",
    "It is needed because CPython's (reference implementation of Python) memory management is not thread-safe. Python uses reference counting for memory management. It means that objects created in Python have a reference count variable that keeps track of the number of references that point to the object. When this count reaches zero, the memory occupied by the object is released. The problem was that this reference count variable needed protection from race conditions where two threads increase or decrease its value simultaneously. If this happens, it can cause either leaked memory that is never released or incorrectly release the memory while a reference to that object still exists."
   ]
  },
  {
   "cell_type": "markdown",
   "metadata": {},
   "source": [
    "##### How to avoid the GIL\n",
    "\n",
    "The GIL is very controversial in the Python community. The main way to avoid the GIL is by using multiprocessing instead of threading. Another (however uncomfortable) solution would be to avoid the CPython implementation and use a free-threaded Python implementation like Jython or IronPython. A third option is to move parts of the application out into binary extensions modules, i.e. use Python as a wrapper for third party libraries (e.g. in C/C++). This is the path taken by numpy and scipy."
   ]
  },
  {
   "cell_type": "code",
   "execution_count": 1,
   "metadata": {},
   "outputs": [
    {
     "name": "stdout",
     "output_type": "stream",
     "text": [
      "cpu count: 12\n",
      "end main\n"
     ]
    }
   ],
   "source": [
    "from multiprocessing import Process\n",
    "import os\n",
    "import time\n",
    "\n",
    "def square_numbers():\n",
    "    for i in range(9000):\n",
    "        i * i\n",
    "        time.sleep(0.1) # hold the execution for specified time\n",
    "\n",
    "\n",
    "processes = []\n",
    "num_processes = os.cpu_count()\n",
    "print('cpu count:', num_processes)\n",
    "# all cpus are used seperately to execute the function\n",
    "\n",
    "# create processes and asign a function for each process\n",
    "for i in range(num_processes):\n",
    "    p = Process(target=square_numbers)\n",
    "    # if the target func. takes any arguments then \n",
    "    # Process(target=square_numbers. args=[]) i.e pass as args in the form of a list\n",
    "    processes.append(p)\n",
    "\n",
    "# start all processes\n",
    "for p in processes:\n",
    "    p.start()\n",
    "\n",
    "# wait for all processes to finish\n",
    "# block the main thread until these processes are finished\n",
    "for p in processes:\n",
    "    p.join()\n",
    "\n",
    "print('end main')"
   ]
  },
  {
   "cell_type": "markdown",
   "metadata": {},
   "source": [
    "#### 2) Threading:\n",
    "Use the _threading_ module.\n",
    "\n",
    "Note: The following example usually won't benefit from multiple threads since it is CPU-bound. It should just show the example of how to use threads."
   ]
  },
  {
   "cell_type": "code",
   "execution_count": 1,
   "metadata": {},
   "outputs": [
    {
     "name": "stdout",
     "output_type": "stream",
     "text": [
      "end main\n"
     ]
    }
   ],
   "source": [
    "from threading import Thread\n",
    "\n",
    "def square_numbers():\n",
    "    for i in range(100):\n",
    "        i * i\n",
    "\n",
    "\n",
    "threads = []\n",
    "num_threads = 10\n",
    "# all cpus are used seperately to execute the function\n",
    "\n",
    "# create threads and asign a function for each process\n",
    "for i in range(num_threads):\n",
    "    thread = Thread(target=square_numbers)\n",
    "    # if the target func. takes any arguments then \n",
    "    # Thread(target=square_numbers. args=[]) i.e pass as args in the form of a list\n",
    "    threads.append(thread)\n",
    "\n",
    "# start all threads\n",
    "for thread in threads:\n",
    "    thread.start()\n",
    "\n",
    "# wait for all threads to finish\n",
    "# block the main thread until these processes are finished\n",
    "for thread in threads:\n",
    "    thread.join()\n",
    "\n",
    "print('end main')"
   ]
  },
  {
   "cell_type": "code",
   "execution_count": null,
   "metadata": {},
   "outputs": [],
   "source": []
  }
 ],
 "metadata": {
  "kernelspec": {
   "display_name": "Python 3",
   "language": "python",
   "name": "python3"
  },
  "language_info": {
   "codemirror_mode": {
    "name": "ipython",
    "version": 3
   },
   "file_extension": ".py",
   "mimetype": "text/x-python",
   "name": "python",
   "nbconvert_exporter": "python",
   "pygments_lexer": "ipython3",
   "version": "3.7.6"
  }
 },
 "nbformat": 4,
 "nbformat_minor": 4
}
